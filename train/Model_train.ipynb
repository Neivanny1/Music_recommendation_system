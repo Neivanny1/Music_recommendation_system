{
 "cells": [
  {
   "cell_type": "code",
   "execution_count": 2,
   "id": "bab0b79e",
   "metadata": {},
   "outputs": [],
   "source": [
    "import pandas as pd\n",
    "import numpy as np"
   ]
  },
  {
   "cell_type": "code",
   "execution_count": 3,
   "id": "e257fce4",
   "metadata": {},
   "outputs": [
    {
     "data": {
      "text/html": [
       "<div>\n",
       "<style scoped>\n",
       "    .dataframe tbody tr th:only-of-type {\n",
       "        vertical-align: middle;\n",
       "    }\n",
       "\n",
       "    .dataframe tbody tr th {\n",
       "        vertical-align: top;\n",
       "    }\n",
       "\n",
       "    .dataframe thead th {\n",
       "        text-align: right;\n",
       "    }\n",
       "</style>\n",
       "<table border=\"1\" class=\"dataframe\">\n",
       "  <thead>\n",
       "    <tr style=\"text-align: right;\">\n",
       "      <th></th>\n",
       "      <th>artist</th>\n",
       "      <th>song</th>\n",
       "      <th>link</th>\n",
       "      <th>text</th>\n",
       "    </tr>\n",
       "  </thead>\n",
       "  <tbody>\n",
       "    <tr>\n",
       "      <th>0</th>\n",
       "      <td>ABBA</td>\n",
       "      <td>Ahe's My Kind Of Girl</td>\n",
       "      <td>/a/abba/ahes+my+kind+of+girl_20598417.html</td>\n",
       "      <td>Look at her face, it's a wonderful face  \\r\\nA...</td>\n",
       "    </tr>\n",
       "    <tr>\n",
       "      <th>1</th>\n",
       "      <td>ABBA</td>\n",
       "      <td>Andante, Andante</td>\n",
       "      <td>/a/abba/andante+andante_20002708.html</td>\n",
       "      <td>Take it easy with me, please  \\r\\nTouch me gen...</td>\n",
       "    </tr>\n",
       "    <tr>\n",
       "      <th>2</th>\n",
       "      <td>ABBA</td>\n",
       "      <td>As Good As New</td>\n",
       "      <td>/a/abba/as+good+as+new_20003033.html</td>\n",
       "      <td>I'll never know why I had to go  \\r\\nWhy I had...</td>\n",
       "    </tr>\n",
       "    <tr>\n",
       "      <th>3</th>\n",
       "      <td>ABBA</td>\n",
       "      <td>Bang</td>\n",
       "      <td>/a/abba/bang_20598415.html</td>\n",
       "      <td>Making somebody happy is a question of give an...</td>\n",
       "    </tr>\n",
       "    <tr>\n",
       "      <th>4</th>\n",
       "      <td>ABBA</td>\n",
       "      <td>Bang-A-Boomerang</td>\n",
       "      <td>/a/abba/bang+a+boomerang_20002668.html</td>\n",
       "      <td>Making somebody happy is a question of give an...</td>\n",
       "    </tr>\n",
       "    <tr>\n",
       "      <th>5</th>\n",
       "      <td>ABBA</td>\n",
       "      <td>Burning My Bridges</td>\n",
       "      <td>/a/abba/burning+my+bridges_20003011.html</td>\n",
       "      <td>Well, you hoot and you holler and you make me ...</td>\n",
       "    </tr>\n",
       "    <tr>\n",
       "      <th>6</th>\n",
       "      <td>ABBA</td>\n",
       "      <td>Cassandra</td>\n",
       "      <td>/a/abba/cassandra_20002811.html</td>\n",
       "      <td>Down in the street they're all singing and sho...</td>\n",
       "    </tr>\n",
       "    <tr>\n",
       "      <th>7</th>\n",
       "      <td>ABBA</td>\n",
       "      <td>Chiquitita</td>\n",
       "      <td>/a/abba/chiquitita_20002978.html</td>\n",
       "      <td>Chiquitita, tell me what's wrong  \\r\\nYou're e...</td>\n",
       "    </tr>\n",
       "    <tr>\n",
       "      <th>8</th>\n",
       "      <td>ABBA</td>\n",
       "      <td>Crazy World</td>\n",
       "      <td>/a/abba/crazy+world_20003013.html</td>\n",
       "      <td>I was out with the morning sun  \\r\\nCouldn't s...</td>\n",
       "    </tr>\n",
       "    <tr>\n",
       "      <th>9</th>\n",
       "      <td>ABBA</td>\n",
       "      <td>Crying Over You</td>\n",
       "      <td>/a/abba/crying+over+you_20177611.html</td>\n",
       "      <td>I'm waitin' for you baby  \\r\\nI'm sitting all ...</td>\n",
       "    </tr>\n",
       "    <tr>\n",
       "      <th>10</th>\n",
       "      <td>ABBA</td>\n",
       "      <td>Dance</td>\n",
       "      <td>/a/abba/dance_10001507.html</td>\n",
       "      <td>Oh, my love it makes me sad.  \\r\\nWhy did thin...</td>\n",
       "    </tr>\n",
       "    <tr>\n",
       "      <th>11</th>\n",
       "      <td>ABBA</td>\n",
       "      <td>Dancing Queen</td>\n",
       "      <td>/a/abba/dancing+queen_20002554.html</td>\n",
       "      <td>You can dance, you can jive, having the time o...</td>\n",
       "    </tr>\n",
       "    <tr>\n",
       "      <th>12</th>\n",
       "      <td>ABBA</td>\n",
       "      <td>Disillusion</td>\n",
       "      <td>/a/abba/disillusion_20002786.html</td>\n",
       "      <td>Changing, moving in a circle  \\r\\nI can see yo...</td>\n",
       "    </tr>\n",
       "    <tr>\n",
       "      <th>13</th>\n",
       "      <td>ABBA</td>\n",
       "      <td>Does Your Mother Know</td>\n",
       "      <td>/a/abba/does+your+mother+know_20003035.html</td>\n",
       "      <td>You're so hot, teasing me  \\r\\nSo you're blue ...</td>\n",
       "    </tr>\n",
       "  </tbody>\n",
       "</table>\n",
       "</div>"
      ],
      "text/plain": [
       "   artist                   song                                         link  \\\n",
       "0    ABBA  Ahe's My Kind Of Girl   /a/abba/ahes+my+kind+of+girl_20598417.html   \n",
       "1    ABBA       Andante, Andante        /a/abba/andante+andante_20002708.html   \n",
       "2    ABBA         As Good As New         /a/abba/as+good+as+new_20003033.html   \n",
       "3    ABBA                   Bang                   /a/abba/bang_20598415.html   \n",
       "4    ABBA       Bang-A-Boomerang       /a/abba/bang+a+boomerang_20002668.html   \n",
       "5    ABBA     Burning My Bridges     /a/abba/burning+my+bridges_20003011.html   \n",
       "6    ABBA              Cassandra              /a/abba/cassandra_20002811.html   \n",
       "7    ABBA             Chiquitita             /a/abba/chiquitita_20002978.html   \n",
       "8    ABBA            Crazy World            /a/abba/crazy+world_20003013.html   \n",
       "9    ABBA        Crying Over You        /a/abba/crying+over+you_20177611.html   \n",
       "10   ABBA                  Dance                  /a/abba/dance_10001507.html   \n",
       "11   ABBA          Dancing Queen          /a/abba/dancing+queen_20002554.html   \n",
       "12   ABBA            Disillusion            /a/abba/disillusion_20002786.html   \n",
       "13   ABBA  Does Your Mother Know  /a/abba/does+your+mother+know_20003035.html   \n",
       "\n",
       "                                                 text  \n",
       "0   Look at her face, it's a wonderful face  \\r\\nA...  \n",
       "1   Take it easy with me, please  \\r\\nTouch me gen...  \n",
       "2   I'll never know why I had to go  \\r\\nWhy I had...  \n",
       "3   Making somebody happy is a question of give an...  \n",
       "4   Making somebody happy is a question of give an...  \n",
       "5   Well, you hoot and you holler and you make me ...  \n",
       "6   Down in the street they're all singing and sho...  \n",
       "7   Chiquitita, tell me what's wrong  \\r\\nYou're e...  \n",
       "8   I was out with the morning sun  \\r\\nCouldn't s...  \n",
       "9   I'm waitin' for you baby  \\r\\nI'm sitting all ...  \n",
       "10  Oh, my love it makes me sad.  \\r\\nWhy did thin...  \n",
       "11  You can dance, you can jive, having the time o...  \n",
       "12  Changing, moving in a circle  \\r\\nI can see yo...  \n",
       "13  You're so hot, teasing me  \\r\\nSo you're blue ...  "
      ]
     },
     "execution_count": 3,
     "metadata": {},
     "output_type": "execute_result"
    }
   ],
   "source": [
    "df = pd.read_csv('songdata.csv')\n",
    "df.head(14)"
   ]
  },
  {
   "cell_type": "code",
   "execution_count": 4,
   "id": "165df3b2",
   "metadata": {},
   "outputs": [
    {
     "data": {
      "text/plain": [
       "(57650, 4)"
      ]
     },
     "execution_count": 4,
     "metadata": {},
     "output_type": "execute_result"
    }
   ],
   "source": [
    "df.shape"
   ]
  },
  {
   "cell_type": "code",
   "execution_count": 5,
   "id": "9fb6004b",
   "metadata": {},
   "outputs": [],
   "source": [
    "df = df.sample(n=5000).drop('link', axis=1).reset_index(drop=True)"
   ]
  },
  {
   "cell_type": "code",
   "execution_count": 6,
   "id": "52eee439",
   "metadata": {},
   "outputs": [
    {
     "data": {
      "text/plain": [
       "(5000, 3)"
      ]
     },
     "execution_count": 6,
     "metadata": {},
     "output_type": "execute_result"
    }
   ],
   "source": [
    "df.shape"
   ]
  },
  {
   "cell_type": "code",
   "execution_count": 7,
   "id": "3c6bb6f9",
   "metadata": {},
   "outputs": [],
   "source": [
    "df['text'] = df['text'].str.lower().replace(r'[^\\w\\s]','').replace(r'\\n',' ', regex=True)"
   ]
  },
  {
   "cell_type": "code",
   "execution_count": 8,
   "id": "bd4b8361",
   "metadata": {},
   "outputs": [
    {
     "data": {
      "text/plain": [
       "\"why are you so paranoid?  \\r don't be so paranoid  \\r don't be so...  \\r   \\r baby, don't worry about it  \\r hey there, don't even think about it  \\r   \\r you worry bout the wrong things, the wrong things  \\r you worry bout the wrong things, the wrong things  \\r you worry bout the wrong things, the wrong things  \\r you worry bout the wrong things, the wrong things  \\r   \\r all of the time, you really wanna spend your whole life alone  \\r a little time out might do ya good, might do us good before you're done for\\r good  \\r because i could make it good, i could make it hood, i could make you come, i\\r could make you gooo  \\r i could make you hot, i could make you fly, make you touch the sky, hey, maybe\\r sooo  \\r all of the time, he be up in my, checking through my cell phone, baby no  \\r you wanna kill the vibe, on another night, here's another fight, oh, here we\\r go (oh, here we go)  \\r   \\r baby, don't worry 'bout it  \\r lady, we'll go out to the floor  \\r   \\r anyway, they don't know you like i do (they don't know)  \\r they'll never know you (never know)  \\r anyway, they don't know you like i do (never know)  \\r they'll never know you  \\r   \\r all of the time, you wanna complain about the nights alone  \\r so now, you here with me, social gratitude, leave the attitude way back at\\r home  \\r yeah, you see 'em look, baby, let 'em look, give you cold looks cuz we look\\r cold  \\r yeah, you heard about all the word of mouth, don't worry about what we can't\\r control  \\r all the talk in the world, loss in the world 'till you finally let that thing\\r gooo  \\r you wanna check-in to the heartbreak hotel but sorry we're closed  \\r   \\r baby, don't worry 'bout it  \\r baby, we'll go out to the floor  \\r   \\r anyway, (hey!) they don't know you like i do (to the floor)  \\r they'll never know you (never know)  \\r anyway, they don't know you like i do (they don't know)  \\r they'll never know you  \\r   \\r baby, don't worry 'bout it  \\r lady, don't even think about it  \\r   \\r you worry bout the wrong things, the wrong thing  \\r you worry bout the wrong thing, the wrong thing  \\r you worry bout the wrong thing, the wrong thing  \\r you worry bout the wrong thing...  \\r   \\r anyway, they don't know you like i do  \\r they'll never know you  \\r anyway, they don't know you like i do  \\r they'll never know you  \\r   \\r anyway, they don't know you like i do  \\r they'll never know you  \\r anyway, they don't know you like i do  \\r they'll never know you\\r \\r \""
      ]
     },
     "execution_count": 8,
     "metadata": {},
     "output_type": "execute_result"
    }
   ],
   "source": [
    "df['text'][0]"
   ]
  },
  {
   "cell_type": "code",
   "execution_count": 9,
   "id": "3a3260a2",
   "metadata": {},
   "outputs": [],
   "source": [
    "import nltk\n",
    "from nltk.stem.porter import PorterStemmer\n",
    "stemmer = PorterStemmer()\n",
    "\n",
    "def tokenization(txt):\n",
    "    tokens = nltk.word_tokenize(txt)\n",
    "    stemming = [stemmer.stem(w) for w in tokens]\n",
    "    return \" \".join(stemming)"
   ]
  },
  {
   "cell_type": "code",
   "execution_count": 10,
   "id": "6cbe4483",
   "metadata": {},
   "outputs": [],
   "source": [
    "df['text'] = df['text'].apply(lambda x: tokenization(x))"
   ]
  },
  {
   "cell_type": "code",
   "execution_count": 11,
   "id": "36974948",
   "metadata": {},
   "outputs": [],
   "source": [
    "from sklearn.feature_extraction.text import TfidfVectorizer\n",
    "from sklearn.metrics.pairwise import cosine_similarity"
   ]
  },
  {
   "cell_type": "code",
   "execution_count": 12,
   "id": "203ad57e",
   "metadata": {},
   "outputs": [],
   "source": [
    "tfidvector = TfidfVectorizer(analyzer='word',stop_words='english')\n",
    "matrix = tfidvector.fit_transform(df['text'])\n",
    "similarity = cosine_similarity(matrix)"
   ]
  },
  {
   "cell_type": "code",
   "execution_count": 13,
   "id": "06efd00d",
   "metadata": {},
   "outputs": [
    {
     "data": {
      "text/plain": [
       "array([1.        , 0.04056035, 0.0711061 , ..., 0.13695306, 0.0237866 ,\n",
       "       0.02694411])"
      ]
     },
     "execution_count": 13,
     "metadata": {},
     "output_type": "execute_result"
    }
   ],
   "source": [
    "similarity[0]"
   ]
  },
  {
   "cell_type": "code",
   "execution_count": 16,
   "id": "9d080eec",
   "metadata": {},
   "outputs": [
    {
     "ename": "IndexError",
     "evalue": "index 0 is out of bounds for axis 0 with size 0",
     "output_type": "error",
     "traceback": [
      "\u001b[0;31m---------------------------------------------------------------------------\u001b[0m",
      "\u001b[0;31mIndexError\u001b[0m                                Traceback (most recent call last)",
      "Cell \u001b[0;32mIn[16], line 1\u001b[0m\n\u001b[0;32m----> 1\u001b[0m \u001b[43mdf\u001b[49m\u001b[43m[\u001b[49m\u001b[43mdf\u001b[49m\u001b[43m[\u001b[49m\u001b[38;5;124;43m'\u001b[39;49m\u001b[38;5;124;43msong\u001b[39;49m\u001b[38;5;124;43m'\u001b[39;49m\u001b[43m]\u001b[49m\u001b[38;5;241;43m==\u001b[39;49m\u001b[38;5;124;43m'\u001b[39;49m\u001b[38;5;124;43mBang-A-Boomerang\u001b[39;49m\u001b[38;5;124;43m'\u001b[39;49m\u001b[43m]\u001b[49m\u001b[38;5;241;43m.\u001b[39;49m\u001b[43mindex\u001b[49m\u001b[43m[\u001b[49m\u001b[38;5;241;43m0\u001b[39;49m\u001b[43m]\u001b[49m\n",
      "File \u001b[0;32m~/.local/lib/python3.8/site-packages/pandas/core/indexes/base.py:5175\u001b[0m, in \u001b[0;36mIndex.__getitem__\u001b[0;34m(self, key)\u001b[0m\n\u001b[1;32m   5172\u001b[0m \u001b[38;5;28;01mif\u001b[39;00m is_integer(key) \u001b[38;5;129;01mor\u001b[39;00m is_float(key):\n\u001b[1;32m   5173\u001b[0m     \u001b[38;5;66;03m# GH#44051 exclude bool, which would return a 2d ndarray\u001b[39;00m\n\u001b[1;32m   5174\u001b[0m     key \u001b[38;5;241m=\u001b[39m com\u001b[38;5;241m.\u001b[39mcast_scalar_indexer(key)\n\u001b[0;32m-> 5175\u001b[0m     \u001b[38;5;28;01mreturn\u001b[39;00m \u001b[43mgetitem\u001b[49m\u001b[43m(\u001b[49m\u001b[43mkey\u001b[49m\u001b[43m)\u001b[49m\n\u001b[1;32m   5177\u001b[0m \u001b[38;5;28;01mif\u001b[39;00m \u001b[38;5;28misinstance\u001b[39m(key, \u001b[38;5;28mslice\u001b[39m):\n\u001b[1;32m   5178\u001b[0m     \u001b[38;5;66;03m# This case is separated from the conditional above to avoid\u001b[39;00m\n\u001b[1;32m   5179\u001b[0m     \u001b[38;5;66;03m# pessimization com.is_bool_indexer and ndim checks.\u001b[39;00m\n\u001b[1;32m   5180\u001b[0m     result \u001b[38;5;241m=\u001b[39m getitem(key)\n",
      "\u001b[0;31mIndexError\u001b[0m: index 0 is out of bounds for axis 0 with size 0"
     ]
    }
   ],
   "source": [
    "df[df['song']=='Bang-A-Boomerang'].index[0]"
   ]
  },
  {
   "cell_type": "markdown",
   "id": "033cceef",
   "metadata": {},
   "source": [
    "# recommedation function"
   ]
  },
  {
   "cell_type": "code",
   "execution_count": 16,
   "id": "9795f82a",
   "metadata": {},
   "outputs": [],
   "source": [
    "def recommendation(song_df):\n",
    "    idx = df[df['song'] == song_df].index[0]\n",
    "    distances = sorted(list(enumerate(similarity[idx])),reverse=True,key=lambda x:x[1])\n",
    "    \n",
    "    songs = []\n",
    "    for m_id in distances[1:21]:\n",
    "        songs.append(df.iloc[m_id[0]].song)\n",
    "        \n",
    "    return songs"
   ]
  },
  {
   "cell_type": "code",
   "execution_count": 17,
   "id": "842ff231",
   "metadata": {},
   "outputs": [
    {
     "data": {
      "text/plain": [
       "['The Prime Of Your Love',\n",
       " 'Give Me A Bit',\n",
       " 'Solsbury Hill',\n",
       " 'Bang Bang',\n",
       " 'Bang Bang Bang',\n",
       " 'Shoot From The Hip',\n",
       " 'Pop That Thang',\n",
       " 'Just Like Forever',\n",
       " \"Nothin' Else\",\n",
       " 'Show Me',\n",
       " 'Funky Music Sho Nuff Turns Me On',\n",
       " 'I Saw Her Standing There',\n",
       " 'Loved',\n",
       " 'Love Me Tender',\n",
       " 'The Way You Move',\n",
       " 'Another Day',\n",
       " 'Who Will Love Me Now',\n",
       " 'Learn To Love',\n",
       " \"I Think I'm In Love\",\n",
       " 'Birthday Song']"
      ]
     },
     "execution_count": 17,
     "metadata": {},
     "output_type": "execute_result"
    }
   ],
   "source": [
    "recommendation('Bang')"
   ]
  },
  {
   "cell_type": "markdown",
   "id": "9a6b3388",
   "metadata": {},
   "source": []
  },
  {
   "cell_type": "code",
   "execution_count": 18,
   "id": "aba04293",
   "metadata": {},
   "outputs": [],
   "source": [
    "import pickle\n",
    "pickle.dump(similarity,open('similarity.pkl','wb'))\n",
    "pickle.dump(df,open('df.pkl','wb'))"
   ]
  },
  {
   "cell_type": "code",
   "execution_count": null,
   "id": "9c56a437",
   "metadata": {},
   "outputs": [],
   "source": []
  }
 ],
 "metadata": {
  "kernelspec": {
   "display_name": "Python 3 (ipykernel)",
   "language": "python",
   "name": "python3"
  },
  "language_info": {
   "codemirror_mode": {
    "name": "ipython",
    "version": 3
   },
   "file_extension": ".py",
   "mimetype": "text/x-python",
   "name": "python",
   "nbconvert_exporter": "python",
   "pygments_lexer": "ipython3",
   "version": "3.8.10"
  }
 },
 "nbformat": 4,
 "nbformat_minor": 5
}
