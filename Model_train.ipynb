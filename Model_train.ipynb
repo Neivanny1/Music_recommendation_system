{
 "cells": [
  {
   "cell_type": "code",
   "execution_count": 1,
   "id": "bab0b79e",
   "metadata": {},
   "outputs": [],
   "source": [
    "import pandas as pd\n",
    "import numpy as np"
   ]
  },
  {
   "cell_type": "code",
   "execution_count": 14,
   "id": "e257fce4",
   "metadata": {},
   "outputs": [
    {
     "data": {
      "text/html": [
       "<div>\n",
       "<style scoped>\n",
       "    .dataframe tbody tr th:only-of-type {\n",
       "        vertical-align: middle;\n",
       "    }\n",
       "\n",
       "    .dataframe tbody tr th {\n",
       "        vertical-align: top;\n",
       "    }\n",
       "\n",
       "    .dataframe thead th {\n",
       "        text-align: right;\n",
       "    }\n",
       "</style>\n",
       "<table border=\"1\" class=\"dataframe\">\n",
       "  <thead>\n",
       "    <tr style=\"text-align: right;\">\n",
       "      <th></th>\n",
       "      <th>artist</th>\n",
       "      <th>song</th>\n",
       "      <th>link</th>\n",
       "      <th>text</th>\n",
       "    </tr>\n",
       "  </thead>\n",
       "  <tbody>\n",
       "    <tr>\n",
       "      <th>0</th>\n",
       "      <td>ABBA</td>\n",
       "      <td>Ahe's My Kind Of Girl</td>\n",
       "      <td>/a/abba/ahes+my+kind+of+girl_20598417.html</td>\n",
       "      <td>Look at her face, it's a wonderful face  \\nAnd...</td>\n",
       "    </tr>\n",
       "    <tr>\n",
       "      <th>1</th>\n",
       "      <td>ABBA</td>\n",
       "      <td>Andante, Andante</td>\n",
       "      <td>/a/abba/andante+andante_20002708.html</td>\n",
       "      <td>Take it easy with me, please  \\nTouch me gentl...</td>\n",
       "    </tr>\n",
       "    <tr>\n",
       "      <th>2</th>\n",
       "      <td>ABBA</td>\n",
       "      <td>As Good As New</td>\n",
       "      <td>/a/abba/as+good+as+new_20003033.html</td>\n",
       "      <td>I'll never know why I had to go  \\nWhy I had t...</td>\n",
       "    </tr>\n",
       "    <tr>\n",
       "      <th>3</th>\n",
       "      <td>ABBA</td>\n",
       "      <td>Bang</td>\n",
       "      <td>/a/abba/bang_20598415.html</td>\n",
       "      <td>Making somebody happy is a question of give an...</td>\n",
       "    </tr>\n",
       "    <tr>\n",
       "      <th>4</th>\n",
       "      <td>ABBA</td>\n",
       "      <td>Bang-A-Boomerang</td>\n",
       "      <td>/a/abba/bang+a+boomerang_20002668.html</td>\n",
       "      <td>Making somebody happy is a question of give an...</td>\n",
       "    </tr>\n",
       "    <tr>\n",
       "      <th>5</th>\n",
       "      <td>ABBA</td>\n",
       "      <td>Burning My Bridges</td>\n",
       "      <td>/a/abba/burning+my+bridges_20003011.html</td>\n",
       "      <td>Well, you hoot and you holler and you make me ...</td>\n",
       "    </tr>\n",
       "    <tr>\n",
       "      <th>6</th>\n",
       "      <td>ABBA</td>\n",
       "      <td>Cassandra</td>\n",
       "      <td>/a/abba/cassandra_20002811.html</td>\n",
       "      <td>Down in the street they're all singing and sho...</td>\n",
       "    </tr>\n",
       "    <tr>\n",
       "      <th>7</th>\n",
       "      <td>ABBA</td>\n",
       "      <td>Chiquitita</td>\n",
       "      <td>/a/abba/chiquitita_20002978.html</td>\n",
       "      <td>Chiquitita, tell me what's wrong  \\nYou're enc...</td>\n",
       "    </tr>\n",
       "    <tr>\n",
       "      <th>8</th>\n",
       "      <td>ABBA</td>\n",
       "      <td>Crazy World</td>\n",
       "      <td>/a/abba/crazy+world_20003013.html</td>\n",
       "      <td>I was out with the morning sun  \\nCouldn't sle...</td>\n",
       "    </tr>\n",
       "    <tr>\n",
       "      <th>9</th>\n",
       "      <td>ABBA</td>\n",
       "      <td>Crying Over You</td>\n",
       "      <td>/a/abba/crying+over+you_20177611.html</td>\n",
       "      <td>I'm waitin' for you baby  \\nI'm sitting all al...</td>\n",
       "    </tr>\n",
       "    <tr>\n",
       "      <th>10</th>\n",
       "      <td>ABBA</td>\n",
       "      <td>Dance</td>\n",
       "      <td>/a/abba/dance_10001507.html</td>\n",
       "      <td>Oh, my love it makes me sad.  \\nWhy did things...</td>\n",
       "    </tr>\n",
       "    <tr>\n",
       "      <th>11</th>\n",
       "      <td>ABBA</td>\n",
       "      <td>Dancing Queen</td>\n",
       "      <td>/a/abba/dancing+queen_20002554.html</td>\n",
       "      <td>You can dance, you can jive, having the time o...</td>\n",
       "    </tr>\n",
       "    <tr>\n",
       "      <th>12</th>\n",
       "      <td>ABBA</td>\n",
       "      <td>Disillusion</td>\n",
       "      <td>/a/abba/disillusion_20002786.html</td>\n",
       "      <td>Changing, moving in a circle  \\nI can see your...</td>\n",
       "    </tr>\n",
       "    <tr>\n",
       "      <th>13</th>\n",
       "      <td>ABBA</td>\n",
       "      <td>Does Your Mother Know</td>\n",
       "      <td>/a/abba/does+your+mother+know_20003035.html</td>\n",
       "      <td>You're so hot, teasing me  \\nSo you're blue bu...</td>\n",
       "    </tr>\n",
       "  </tbody>\n",
       "</table>\n",
       "</div>"
      ],
      "text/plain": [
       "   artist                   song                                         link  \\\n",
       "0    ABBA  Ahe's My Kind Of Girl   /a/abba/ahes+my+kind+of+girl_20598417.html   \n",
       "1    ABBA       Andante, Andante        /a/abba/andante+andante_20002708.html   \n",
       "2    ABBA         As Good As New         /a/abba/as+good+as+new_20003033.html   \n",
       "3    ABBA                   Bang                   /a/abba/bang_20598415.html   \n",
       "4    ABBA       Bang-A-Boomerang       /a/abba/bang+a+boomerang_20002668.html   \n",
       "5    ABBA     Burning My Bridges     /a/abba/burning+my+bridges_20003011.html   \n",
       "6    ABBA              Cassandra              /a/abba/cassandra_20002811.html   \n",
       "7    ABBA             Chiquitita             /a/abba/chiquitita_20002978.html   \n",
       "8    ABBA            Crazy World            /a/abba/crazy+world_20003013.html   \n",
       "9    ABBA        Crying Over You        /a/abba/crying+over+you_20177611.html   \n",
       "10   ABBA                  Dance                  /a/abba/dance_10001507.html   \n",
       "11   ABBA          Dancing Queen          /a/abba/dancing+queen_20002554.html   \n",
       "12   ABBA            Disillusion            /a/abba/disillusion_20002786.html   \n",
       "13   ABBA  Does Your Mother Know  /a/abba/does+your+mother+know_20003035.html   \n",
       "\n",
       "                                                 text  \n",
       "0   Look at her face, it's a wonderful face  \\nAnd...  \n",
       "1   Take it easy with me, please  \\nTouch me gentl...  \n",
       "2   I'll never know why I had to go  \\nWhy I had t...  \n",
       "3   Making somebody happy is a question of give an...  \n",
       "4   Making somebody happy is a question of give an...  \n",
       "5   Well, you hoot and you holler and you make me ...  \n",
       "6   Down in the street they're all singing and sho...  \n",
       "7   Chiquitita, tell me what's wrong  \\nYou're enc...  \n",
       "8   I was out with the morning sun  \\nCouldn't sle...  \n",
       "9   I'm waitin' for you baby  \\nI'm sitting all al...  \n",
       "10  Oh, my love it makes me sad.  \\nWhy did things...  \n",
       "11  You can dance, you can jive, having the time o...  \n",
       "12  Changing, moving in a circle  \\nI can see your...  \n",
       "13  You're so hot, teasing me  \\nSo you're blue bu...  "
      ]
     },
     "execution_count": 14,
     "metadata": {},
     "output_type": "execute_result"
    }
   ],
   "source": [
    "df = pd.read_csv('songdata.csv')\n",
    "df.head(14)"
   ]
  },
  {
   "cell_type": "code",
   "execution_count": 3,
   "id": "165df3b2",
   "metadata": {},
   "outputs": [
    {
     "data": {
      "text/plain": [
       "(57650, 4)"
      ]
     },
     "execution_count": 3,
     "metadata": {},
     "output_type": "execute_result"
    }
   ],
   "source": [
    "df.shape"
   ]
  },
  {
   "cell_type": "code",
   "execution_count": 4,
   "id": "9fb6004b",
   "metadata": {},
   "outputs": [],
   "source": [
    "df = df.sample(n=5000).drop('link', axis=1).reset_index(drop=True)"
   ]
  },
  {
   "cell_type": "code",
   "execution_count": 5,
   "id": "52eee439",
   "metadata": {},
   "outputs": [
    {
     "data": {
      "text/plain": [
       "(5000, 3)"
      ]
     },
     "execution_count": 5,
     "metadata": {},
     "output_type": "execute_result"
    }
   ],
   "source": [
    "df.shape"
   ]
  },
  {
   "cell_type": "code",
   "execution_count": 6,
   "id": "3c6bb6f9",
   "metadata": {},
   "outputs": [],
   "source": [
    "df['text'] = df['text'].str.lower().replace(r'[^\\w\\s]','').replace(r'\\n',' ', regex=True)"
   ]
  },
  {
   "cell_type": "code",
   "execution_count": 7,
   "id": "bd4b8361",
   "metadata": {},
   "outputs": [
    {
     "data": {
      "text/plain": [
       "'\"mommy... mommy... mommy... mommy\"      later that night in her room, abigail was drifting off to sleep.   all of what she had seen today, was hard to believe.      then the screams of a child in pain, creeping deep into her brain   then the screams of a child in pain, she cannot find her mommy   and that\\'s a shame      abigail was quickly on her feet   down the stairs and into the dark, abigail was following the sound   and there she was: the child      it was clearly a ghost, the ghost from the gate in the storm   \"little girl, tell me who you are?\"   \"i am your spirit twin from years ago, i\\'m little one\"      that brought back memories of abigail when turning six   sneaking out of bed, like she always did      hiding in the dark, listening to the men   tell their stories from way back then   she remembered the story of jonathan      and they\\'d been talking about the little one      then the screams of a child in pain, creeping deep into her brain   then the screams of a child in pain, she cannot find her mommy   and that\\'s a shame      abigail she knew she had to stay   saving little one and breaking the chain, breaking the chain  '"
      ]
     },
     "execution_count": 7,
     "metadata": {},
     "output_type": "execute_result"
    }
   ],
   "source": [
    "df['text'][0]"
   ]
  },
  {
   "cell_type": "code",
   "execution_count": 8,
   "id": "3a3260a2",
   "metadata": {},
   "outputs": [],
   "source": [
    "import nltk\n",
    "from nltk.stem.porter import PorterStemmer\n",
    "stemmer = PorterStemmer()\n",
    "\n",
    "def tokenization(txt):\n",
    "    tokens = nltk.word_tokenize(txt)\n",
    "    stemming = [stemmer.stem(w) for w in tokens]\n",
    "    return \" \".join(stemming)"
   ]
  },
  {
   "cell_type": "code",
   "execution_count": 9,
   "id": "6cbe4483",
   "metadata": {},
   "outputs": [],
   "source": [
    "df['text'] = df['text'].apply(lambda x: tokenization(x))"
   ]
  },
  {
   "cell_type": "code",
   "execution_count": 10,
   "id": "36974948",
   "metadata": {},
   "outputs": [],
   "source": [
    "from sklearn.feature_extraction.text import TfidfVectorizer\n",
    "from sklearn.metrics.pairwise import cosine_similarity"
   ]
  },
  {
   "cell_type": "code",
   "execution_count": 11,
   "id": "203ad57e",
   "metadata": {},
   "outputs": [],
   "source": [
    "tfidvector = TfidfVectorizer(analyzer='word',stop_words='english')\n",
    "matrix = tfidvector.fit_transform(df['text'])\n",
    "similarity = cosine_similarity(matrix)"
   ]
  },
  {
   "cell_type": "code",
   "execution_count": 12,
   "id": "06efd00d",
   "metadata": {},
   "outputs": [
    {
     "data": {
      "text/plain": [
       "array([1.        , 0.00648559, 0.00629897, ..., 0.00416208, 0.01527165,\n",
       "       0.04836588])"
      ]
     },
     "execution_count": 12,
     "metadata": {},
     "output_type": "execute_result"
    }
   ],
   "source": [
    "similarity[0]"
   ]
  },
  {
   "cell_type": "code",
   "execution_count": 15,
   "id": "9d080eec",
   "metadata": {},
   "outputs": [
    {
     "data": {
      "text/plain": [
       "3"
      ]
     },
     "execution_count": 15,
     "metadata": {},
     "output_type": "execute_result"
    }
   ],
   "source": [
    "df[df['song']=='Bang'].index[0]"
   ]
  },
  {
   "cell_type": "markdown",
   "id": "033cceef",
   "metadata": {},
   "source": [
    "# recommedation function"
   ]
  },
  {
   "cell_type": "code",
   "execution_count": 16,
   "id": "9795f82a",
   "metadata": {},
   "outputs": [],
   "source": [
    "def recommendation(song_df):\n",
    "    idx = df[df['song'] == song_df].index[0]\n",
    "    distances = sorted(list(enumerate(similarity[idx])),reverse=True,key=lambda x:x[1])\n",
    "    \n",
    "    songs = []\n",
    "    for m_id in distances[1:21]:\n",
    "        songs.append(df.iloc[m_id[0]].song)\n",
    "        \n",
    "    return songs"
   ]
  },
  {
   "cell_type": "code",
   "execution_count": 17,
   "id": "842ff231",
   "metadata": {},
   "outputs": [
    {
     "data": {
      "text/plain": [
       "['All Night Long',\n",
       " 'Afternoons In Utopia',\n",
       " 'Take Comfort',\n",
       " 'Lonely School Days',\n",
       " 'Electricity',\n",
       " 'Stunt On You',\n",
       " 'Truth?',\n",
       " 'I Will Wait For You',\n",
       " 'King And Country',\n",
       " 'Then They Do',\n",
       " 'Be An Angel',\n",
       " \"It's Not Unusual\",\n",
       " 'Islands In The Stream',\n",
       " 'Kiss Tomorrow Goodbye',\n",
       " 'Circles',\n",
       " 'Christmas In Your Arms',\n",
       " 'Fantasy',\n",
       " 'Bad Seed My Daddy Sowed',\n",
       " 'Railroad Days',\n",
       " 'Biscuits In The Oven']"
      ]
     },
     "execution_count": 17,
     "metadata": {},
     "output_type": "execute_result"
    }
   ],
   "source": [
    "recommendation('Bang')"
   ]
  },
  {
   "cell_type": "markdown",
   "id": "9a6b3388",
   "metadata": {},
   "source": []
  },
  {
   "cell_type": "code",
   "execution_count": 18,
   "id": "aba04293",
   "metadata": {},
   "outputs": [],
   "source": [
    "import pickle\n",
    "pickle.dump(similarity,open('similarity.pkl','wb'))\n",
    "pickle.dump(df,open('df.pkl','wb'))"
   ]
  },
  {
   "cell_type": "code",
   "execution_count": null,
   "id": "9c56a437",
   "metadata": {},
   "outputs": [],
   "source": []
  }
 ],
 "metadata": {
  "kernelspec": {
   "display_name": "Python 3 (ipykernel)",
   "language": "python",
   "name": "python3"
  },
  "language_info": {
   "codemirror_mode": {
    "name": "ipython",
    "version": 3
   },
   "file_extension": ".py",
   "mimetype": "text/x-python",
   "name": "python",
   "nbconvert_exporter": "python",
   "pygments_lexer": "ipython3",
   "version": "3.8.10"
  }
 },
 "nbformat": 4,
 "nbformat_minor": 5
}
